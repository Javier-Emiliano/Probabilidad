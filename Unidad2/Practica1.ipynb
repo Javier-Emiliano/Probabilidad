{
  "nbformat": 4,
  "nbformat_minor": 0,
  "metadata": {
    "colab": {
      "provenance": [],
      "authorship_tag": "ABX9TyMGZrE2Mxly++CHk9hp44IJ",
      "include_colab_link": true
    },
    "kernelspec": {
      "name": "python3",
      "display_name": "Python 3"
    },
    "language_info": {
      "name": "python"
    }
  },
  "cells": [
    {
      "cell_type": "markdown",
      "metadata": {
        "id": "view-in-github",
        "colab_type": "text"
      },
      "source": [
        "<a href=\"https://colab.research.google.com/github/Javier-Emiliano/Probabilidad/blob/main/Unidad2/Practica1.ipynb\" target=\"_parent\"><img src=\"https://colab.research.google.com/assets/colab-badge.svg\" alt=\"Open In Colab\"/></a>"
      ]
    },
    {
      "cell_type": "markdown",
      "source": [
        "# **Probabilidad_U2_Programa1**\n",
        "**Nombre: Javier Emiliano Sánchez Villalobos**"
      ],
      "metadata": {
        "id": "BTjTlMm-qXrg"
      }
    },
    {
      "cell_type": "code",
      "execution_count": null,
      "metadata": {
        "id": "JZs1zZoZqWi8"
      },
      "outputs": [],
      "source": []
    }
  ]
}