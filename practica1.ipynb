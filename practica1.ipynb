{
  "nbformat": 4,
  "nbformat_minor": 0,
  "metadata": {
    "colab": {
      "provenance": [],
      "authorship_tag": "ABX9TyO6I5lZtoiChtAeZjqBkIR1",
      "include_colab_link": true
    },
    "kernelspec": {
      "name": "python3",
      "display_name": "Python 3"
    },
    "language_info": {
      "name": "python"
    }
  },
  "cells": [
    {
      "cell_type": "markdown",
      "metadata": {
        "id": "view-in-github",
        "colab_type": "text"
      },
      "source": [
        "<a href=\"https://colab.research.google.com/github/Javier-Emiliano/Probabilidad/blob/main/practica1.ipynb\" target=\"_parent\"><img src=\"https://colab.research.google.com/assets/colab-badge.svg\" alt=\"Open In Colab\"/></a>"
      ]
    },
    {
      "cell_type": "markdown",
      "source": [
        "# **Probabilidad_U2_Programa1**\n",
        "**Nombre: Javier Emiliano Sánchez Villalobos**\n",
        "\n",
        "**Facilitador:Dr. Jose Gabriel Ródriguez Rivas.**"
      ],
      "metadata": {
        "id": "BTjTlMm-qXrg"
      }
    },
    {
      "cell_type": "code",
      "execution_count": null,
      "metadata": {
        "id": "JZs1zZoZqWi8"
      },
      "outputs": [],
      "source": [
        "# Paso 1: importar librerias\n",
        "import math as mt\n",
        "from itertools import combinations\n",
        "from itertools import combinations_with_replacement\n",
        "import numpy as np"
      ]
    },
    {
      "cell_type": "code",
      "source": [
        "# Paso 2: Hora de dar los datos\n",
        "nombres = [\"Oscar\", \"Paco\", \"Paty\", \"Laura\", \"Rubén\", \"Luis\", \"Lucy\", \"Alberto\", \"Julia\", \"Danny\"]\n",
        "n = len(nombres)\n",
        "r = 2 # ¿cómo agrupar?\n",
        "\n",
        "Cn = mt.factorial(n) / (mt.factorial(n - r) * mt.factorial(r))\n",
        "\n",
        "print(\"Existen\", Cn, \"posibles combinaciones sin repetición del total de\", n, \"nombres elegidos de\", r)\n",
        "\n",
        "print(\"aqui las combinaciones\")\n",
        "combinaciones_nombres = list(combinations(nombres, r))\n",
        "\n",
        "# Paso 3: imprime las combinaciones\n",
        "for combinacion in combinaciones_nombres:\n",
        "    print(combinacion)"
      ],
      "metadata": {
        "colab": {
          "base_uri": "https://localhost:8080/"
        },
        "id": "AwXsSEQ2B5z6",
        "outputId": "84624f0a-b784-4051-c517-452e5a188ff3"
      },
      "execution_count": null,
      "outputs": [
        {
          "output_type": "stream",
          "name": "stdout",
          "text": [
            "Existen 45.0 posibles combinaciones sin repetición del total de 10 nombres elegidos de 2\n",
            "aqui las combinaciones\n",
            "('Oscar', 'Paco')\n",
            "('Oscar', 'Paty')\n",
            "('Oscar', 'Laura')\n",
            "('Oscar', 'Rubén')\n",
            "('Oscar', 'Luis')\n",
            "('Oscar', 'Lucy')\n",
            "('Oscar', 'Alberto')\n",
            "('Oscar', 'Julia')\n",
            "('Oscar', 'Danny')\n",
            "('Paco', 'Paty')\n",
            "('Paco', 'Laura')\n",
            "('Paco', 'Rubén')\n",
            "('Paco', 'Luis')\n",
            "('Paco', 'Lucy')\n",
            "('Paco', 'Alberto')\n",
            "('Paco', 'Julia')\n",
            "('Paco', 'Danny')\n",
            "('Paty', 'Laura')\n",
            "('Paty', 'Rubén')\n",
            "('Paty', 'Luis')\n",
            "('Paty', 'Lucy')\n",
            "('Paty', 'Alberto')\n",
            "('Paty', 'Julia')\n",
            "('Paty', 'Danny')\n",
            "('Laura', 'Rubén')\n",
            "('Laura', 'Luis')\n",
            "('Laura', 'Lucy')\n",
            "('Laura', 'Alberto')\n",
            "('Laura', 'Julia')\n",
            "('Laura', 'Danny')\n",
            "('Rubén', 'Luis')\n",
            "('Rubén', 'Lucy')\n",
            "('Rubén', 'Alberto')\n",
            "('Rubén', 'Julia')\n",
            "('Rubén', 'Danny')\n",
            "('Luis', 'Lucy')\n",
            "('Luis', 'Alberto')\n",
            "('Luis', 'Julia')\n",
            "('Luis', 'Danny')\n",
            "('Lucy', 'Alberto')\n",
            "('Lucy', 'Julia')\n",
            "('Lucy', 'Danny')\n",
            "('Alberto', 'Julia')\n",
            "('Alberto', 'Danny')\n",
            "('Julia', 'Danny')\n"
          ]
        }
      ]
    }
  ]
}